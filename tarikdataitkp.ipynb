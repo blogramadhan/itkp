{
 "cells": [
  {
   "cell_type": "code",
   "execution_count": 1,
   "id": "f8afc829",
   "metadata": {
    "execution": {
     "iopub.execute_input": "2022-07-02T23:32:57.062495Z",
     "iopub.status.busy": "2022-07-02T23:32:57.061810Z",
     "iopub.status.idle": "2022-07-02T23:33:13.533811Z",
     "shell.execute_reply": "2022-07-02T23:33:13.532499Z"
    },
    "papermill": {
     "duration": 16.485454,
     "end_time": "2022-07-02T23:33:13.537055",
     "exception": false,
     "start_time": "2022-07-02T23:32:57.051601",
     "status": "completed"
    },
    "tags": []
   },
   "outputs": [
    {
     "name": "stdout",
     "output_type": "stream",
     "text": [
      "Collecting wget\r\n",
      "  Downloading wget-3.2.zip (10 kB)\r\n",
      "  Preparing metadata (setup.py) ... \u001b[?25l-\b \bdone\r\n",
      "\u001b[?25hBuilding wheels for collected packages: wget\r\n",
      "  Building wheel for wget (setup.py) ... \u001b[?25l-\b \b\\\b \bdone\r\n",
      "\u001b[?25h  Created wheel for wget: filename=wget-3.2-py3-none-any.whl size=9675 sha256=9906806b0c09cdec02f565a8c8cc06704032814526d99a8d5d94abf064a1f12a\r\n",
      "  Stored in directory: /root/.cache/pip/wheels/a1/b6/7c/0e63e34eb06634181c63adacca38b79ff8f35c37e3c13e3c02\r\n",
      "Successfully built wget\r\n",
      "Installing collected packages: wget\r\n",
      "Successfully installed wget-3.2\r\n",
      "\u001b[33mWARNING: Running pip as the 'root' user can result in broken permissions and conflicting behaviour with the system package manager. It is recommended to use a virtual environment instead: https://pip.pypa.io/warnings/venv\u001b[0m\u001b[33m\r\n",
      "\u001b[0m"
     ]
    }
   ],
   "source": [
    "# Install Library System\n",
    "!pip install wget"
   ]
  },
  {
   "cell_type": "code",
   "execution_count": 2,
   "id": "7efab712",
   "metadata": {
    "_cell_guid": "9bd217c8-972a-4115-9f19-3e75d3a1da66",
    "_uuid": "37e89fe4-3e63-473d-bdcb-0051249f0a73",
    "collapsed": false,
    "execution": {
     "iopub.execute_input": "2022-07-02T23:33:13.544279Z",
     "iopub.status.busy": "2022-07-02T23:33:13.543872Z",
     "iopub.status.idle": "2022-07-02T23:33:13.559464Z",
     "shell.execute_reply": "2022-07-02T23:33:13.558225Z"
    },
    "jupyter": {
     "outputs_hidden": false
    },
    "papermill": {
     "duration": 0.022439,
     "end_time": "2022-07-02T23:33:13.562205",
     "exception": false,
     "start_time": "2022-07-02T23:33:13.539766",
     "status": "completed"
    },
    "tags": []
   },
   "outputs": [
    {
     "data": {
      "text/plain": [
       "'\\nprint(x.year)\\nprint(x.month)\\nprint(x.day)\\n'"
      ]
     },
     "execution_count": 2,
     "metadata": {},
     "output_type": "execute_result"
    }
   ],
   "source": [
    "# Import Library Penting\n",
    "import numpy as np\n",
    "import pandas as pd\n",
    "import datetime\n",
    "import os\n",
    "import wget\n",
    "\n",
    "x = datetime.datetime.now()\n",
    "\n",
    "'''\n",
    "print(x.year)\n",
    "print(x.month)\n",
    "print(x.day)\n",
    "'''"
   ]
  }
 ],
 "metadata": {
  "kernelspec": {
   "display_name": "Python 3",
   "language": "python",
   "name": "python3"
  },
  "language_info": {
   "codemirror_mode": {
    "name": "ipython",
    "version": 3
   },
   "file_extension": ".py",
   "mimetype": "text/x-python",
   "name": "python",
   "nbconvert_exporter": "python",
   "pygments_lexer": "ipython3",
   "version": "3.7.12"
  },
  "papermill": {
   "default_parameters": {},
   "duration": 27.2974,
   "end_time": "2022-07-02T23:33:14.286728",
   "environment_variables": {},
   "exception": null,
   "input_path": "__notebook__.ipynb",
   "output_path": "__notebook__.ipynb",
   "parameters": {},
   "start_time": "2022-07-02T23:32:46.989328",
   "version": "2.3.4"
  }
 },
 "nbformat": 4,
 "nbformat_minor": 5
}
